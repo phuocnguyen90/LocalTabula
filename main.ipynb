{
 "cells": [
  {
   "cell_type": "code",
   "execution_count": null,
   "metadata": {},
   "outputs": [
    {
     "name": "stdout",
     "output_type": "stream",
     "text": [
      "\u001b[31mERROR: Operation cancelled by user\u001b[0m\u001b[31m\n",
      "\u001b[0m^C\n"
     ]
    }
   ],
   "source": [
    "# Cell 1: Installs\n",
    "!pip install -q -U transformers accelerate bitsandbytes torch unsloth\n",
    "!pip install -q gspread google-auth google-auth-oauthlib google-auth-httplib2 pandas streamlit pyngrok\n",
    "# Kill the current Colab runtime kernel after installs to use updated packages\n",
    "import os\n",
    "os.kill(os.getpid(), 9)"
   ]
  },
  {
   "cell_type": "code",
   "execution_count": 16,
   "metadata": {},
   "outputs": [
    {
     "name": "stdout",
     "output_type": "stream",
     "text": [
      "Environment variables loaded from .env file.\n"
     ]
    }
   ],
   "source": [
    "\n",
    "# import secrets from .env\n",
    "import os\n",
    "import dotenv\n",
    "# Load environment variables from .env file\n",
    "dotenv_path = '.env'\n",
    "if os.path.exists(dotenv_path):\n",
    "    dotenv.load_dotenv(dotenv_path)\n",
    "    print(\"Environment variables loaded from .env file.\")\n",
    "else:\n",
    "    print(\"No .env file found. Make sure to create one with your secrets.\")\n"
   ]
  },
  {
   "cell_type": "code",
   "execution_count": null,
   "metadata": {},
   "outputs": [],
   "source": []
  },
  {
   "cell_type": "code",
   "execution_count": null,
   "metadata": {},
   "outputs": [
    {
     "name": "stderr",
     "output_type": "stream",
     "text": [
      "/home/phuoc/git/AI_agent_gemma3/venv/lib/python3.12/site-packages/tqdm/auto.py:21: TqdmWarning: IProgress not found. Please update jupyter and ipywidgets. See https://ipywidgets.readthedocs.io/en/stable/user_install.html\n",
      "  from .autonotebook import tqdm as notebook_tqdm\n",
      "/tmp/ipykernel_15777/177454013.py:13: UserWarning: WARNING: Unsloth should be imported before transformers to ensure all optimizations are applied. Your code may run slower or encounter memory issues without these optimizations.\n",
      "\n",
      "Please restructure your imports with 'import unsloth' at the top of your file.\n",
      "  from unsloth import FastLanguageModel # Import Unsloth's loader\n"
     ]
    },
    {
     "name": "stdout",
     "output_type": "stream",
     "text": [
      "🦥 Unsloth: Will patch your computer to enable 2x faster free finetuning.\n"
     ]
    },
    {
     "name": "stderr",
     "output_type": "stream",
     "text": [
      "/home/phuoc/git/AI_agent_gemma3/venv/lib/python3.12/site-packages/unsloth_zoo/compiler.py:496: SyntaxWarning: invalid escape sequence '\\s'\n",
      "  left = re.match(\"[\\s\\n]{4,}\", leftover).span()[1]\n",
      "/home/phuoc/git/AI_agent_gemma3/venv/lib/python3.12/site-packages/unsloth_zoo/compiler.py:924: SyntaxWarning: invalid escape sequence '\\*'\n",
      "  .replace(\"*\", \"\\*\").replace(\"^\", \"\\^\")\\\n",
      "/home/phuoc/git/AI_agent_gemma3/venv/lib/python3.12/site-packages/unsloth_zoo/compiler.py:924: SyntaxWarning: invalid escape sequence '\\^'\n",
      "  .replace(\"*\", \"\\*\").replace(\"^\", \"\\^\")\\\n",
      "/home/phuoc/git/AI_agent_gemma3/venv/lib/python3.12/site-packages/unsloth_zoo/compiler.py:925: SyntaxWarning: invalid escape sequence '\\-'\n",
      "  .replace(\"-\", \"\\-\").replace(\"_\", \"\\_\")\\\n",
      "/home/phuoc/git/AI_agent_gemma3/venv/lib/python3.12/site-packages/unsloth_zoo/compiler.py:925: SyntaxWarning: invalid escape sequence '\\_'\n",
      "  .replace(\"-\", \"\\-\").replace(\"_\", \"\\_\")\\\n",
      "/home/phuoc/git/AI_agent_gemma3/venv/lib/python3.12/site-packages/unsloth_zoo/compiler.py:926: SyntaxWarning: invalid escape sequence '\\:'\n",
      "  .replace(\":\", \"\\:\").replace(\"+\", \"\\+\")\\\n",
      "/home/phuoc/git/AI_agent_gemma3/venv/lib/python3.12/site-packages/unsloth_zoo/compiler.py:926: SyntaxWarning: invalid escape sequence '\\+'\n",
      "  .replace(\":\", \"\\:\").replace(\"+\", \"\\+\")\\\n",
      "/home/phuoc/git/AI_agent_gemma3/venv/lib/python3.12/site-packages/unsloth_zoo/compiler.py:927: SyntaxWarning: invalid escape sequence '\\.'\n",
      "  .replace(\".\", \"\\.\").replace(\",\", \"\\,\")\\\n",
      "/home/phuoc/git/AI_agent_gemma3/venv/lib/python3.12/site-packages/unsloth_zoo/compiler.py:927: SyntaxWarning: invalid escape sequence '\\,'\n",
      "  .replace(\".\", \"\\.\").replace(\",\", \"\\,\")\\\n",
      "/home/phuoc/git/AI_agent_gemma3/venv/lib/python3.12/site-packages/unsloth_zoo/compiler.py:928: SyntaxWarning: invalid escape sequence '\\('\n",
      "  .replace(\"(\", \"\\(\").replace(\")\", \"\\)\")\\\n",
      "/home/phuoc/git/AI_agent_gemma3/venv/lib/python3.12/site-packages/unsloth_zoo/compiler.py:928: SyntaxWarning: invalid escape sequence '\\)'\n",
      "  .replace(\"(\", \"\\(\").replace(\")\", \"\\)\")\\\n",
      "/home/phuoc/git/AI_agent_gemma3/venv/lib/python3.12/site-packages/unsloth_zoo/compiler.py:929: SyntaxWarning: invalid escape sequence '\\['\n",
      "  .replace(\"[\", \"\\[\").replace(\"]\", \"\\]\")\\\n",
      "/home/phuoc/git/AI_agent_gemma3/venv/lib/python3.12/site-packages/unsloth_zoo/compiler.py:929: SyntaxWarning: invalid escape sequence '\\]'\n",
      "  .replace(\"[\", \"\\[\").replace(\"]\", \"\\]\")\\\n",
      "/home/phuoc/git/AI_agent_gemma3/venv/lib/python3.12/site-packages/unsloth_zoo/compiler.py:1018: SyntaxWarning: invalid escape sequence '\\_'\n",
      "  if \"loss\\_function\" in cross_entropy_find and \"loss_function\" not in forward:\n",
      "/home/phuoc/git/AI_agent_gemma3/venv/lib/python3.12/site-packages/unsloth_zoo/compiler.py:1020: SyntaxWarning: invalid escape sequence '\\_'\n",
      "  elif \"loss\\_function\" not in cross_entropy_find and \"loss_function\" in forward:\n",
      "/home/phuoc/git/AI_agent_gemma3/venv/lib/python3.12/site-packages/unsloth_zoo/compiler.py:1056: SyntaxWarning: invalid escape sequence '\\.'\n",
      "  if \"logits = outputs\\.logits\" in cross_entropy_find:\n",
      "/home/phuoc/git/AI_agent_gemma3/venv/lib/python3.12/site-packages/unsloth_zoo/compiler.py:1163: SyntaxWarning: invalid escape sequence '\\:'\n",
      "  r\"for ([^\\s]{1,}) in \" + modulelist_item + \"\\:[\\n]\" + \\\n",
      "/home/phuoc/git/AI_agent_gemma3/venv/lib/python3.12/site-packages/unsloth_zoo/compiler.py:1406: SyntaxWarning: invalid escape sequence '\\('\n",
      "  regex_find = f\"{call_class}\\(([^\\)]{{1,}})\\)\"\n",
      "/home/phuoc/git/AI_agent_gemma3/venv/lib/python3.12/site-packages/unsloth_zoo/compiler.py:1406: SyntaxWarning: invalid escape sequence '\\)'\n",
      "  regex_find = f\"{call_class}\\(([^\\)]{{1,}})\\)\"\n",
      "/home/phuoc/git/AI_agent_gemma3/venv/lib/python3.12/site-packages/unsloth_zoo/compiler.py:1412: SyntaxWarning: invalid escape sequence '\\('\n",
      "  regex_find = \"def forward\\(([^\\)]{1,})\\)\"\n",
      "/home/phuoc/git/AI_agent_gemma3/venv/lib/python3.12/site-packages/unsloth_zoo/compiler.py:1518: SyntaxWarning: invalid escape sequence '\\)'\n",
      "  inherited_modules = re.findall(r\"class ([^\\s]{1,})\\(\" + inherited_class + \"\\)\", full_source)\n",
      "/home/phuoc/git/AI_agent_gemma3/venv/lib/python3.12/site-packages/unsloth_zoo/compiler.py:1572: SyntaxWarning: invalid escape sequence '\\('\n",
      "  called = re.findall(r\"[\\s]{1,}\" + re.escape(function) + \"\\(.+?\\)\", full_source, flags = re.DOTALL)\n",
      "/home/phuoc/git/AI_agent_gemma3/venv/lib/python3.12/site-packages/unsloth_zoo/peft_utils.py:223: SyntaxWarning: invalid escape sequence '\\.'\n",
      "  name = re.sub(\"\\.([\\d]{1,})\\.\", r\"[\\1].\", name)\n"
     ]
    },
    {
     "name": "stdout",
     "output_type": "stream",
     "text": [
      "🦥 Unsloth Zoo will now patch everything to make training faster!\n",
      "Unsloth: We'll be using `/tmp/unsloth_compiled_cache` for temporary Unsloth patches.\n",
      "Standard import failed for UnslothCPOTrainer: No module named 'UnslothCPOTrainer'. Using tempfile instead!\n"
     ]
    }
   ],
   "source": [
    "# Cell 2: Imports\n",
    "from unsloth import FastLanguageModel\n",
    "import os\n",
    "import gspread\n",
    "\n",
    "from google.oauth2 import service_account\n",
    "import google.auth\n",
    "import pandas as pd\n",
    "import torch\n",
    "# Remove or comment out direct transformers model/tokenizer if Unsloth handles both\n",
    "# from transformers import AutoTokenizer, AutoModelForCausalLM, BitsAndBytesConfig\n",
    "from transformers import AutoTokenizer # Keep Tokenizer for now, Unsloth might load it too\n",
    "\n",
    "import json\n",
    "import logging\n",
    "import time\n",
    "import re\n",
    "from io import StringIO\n",
    "import traceback # For detailed error logging\n",
    "\n",
    "# Optional: Configure basic logging\n",
    "logging.basicConfig(level=logging.INFO, format='%(asctime)s - %(levelname)s - %(message)s')"
   ]
  },
  {
   "cell_type": "code",
   "execution_count": 20,
   "metadata": {},
   "outputs": [
    {
     "data": {
      "application/vnd.jupyter.widget-view+json": {
       "model_id": "fd39c523c6544016a2b2ecc469d3ad6b",
       "version_major": 2,
       "version_minor": 0
      },
      "text/plain": [
       "VBox(children=(HTML(value='<center> <img\\nsrc=https://huggingface.co/front/assets/huggingface_logo-noborder.sv…"
      ]
     },
     "metadata": {},
     "output_type": "display_data"
    }
   ],
   "source": [
    "import torch\n",
    "from transformers import AutoTokenizer, AutoModelForCausalLM, BitsAndBytesConfig\n",
    "from fastembed import TextEmbedding\n",
    "import streamlit as st\n",
    "# authorize autotokennizer with HF token to download the model and tokenizer\n",
    "\n",
    "from huggingface_hub import login\n",
    "# Login to Hugging Face\n",
    "HF_TOKEN = os.getenv(\"HF_TOKEN\")\n",
    "login(token=HF_TOKEN)\n"
   ]
  },
  {
   "cell_type": "code",
   "execution_count": null,
   "metadata": {},
   "outputs": [],
   "source": [
    "bnb_config = BitsAndBytesConfig(\n",
    "    load_in_4bit=True,\n",
    "    bnb_4bit_quant_type=\"nf4\",\n",
    "    bnb_4bit_compute_dtype=torch.bfloat16\n",
    ")\n",
    "gemma_model = AutoModelForCausalLM.from_pretrained(\n",
    "    \"google/gemma-3-4b-it\", \n",
    "    quantization_config=bnb_config,\n",
    "    device_map=\"auto\",\n",
    "    token=HF_TOKEN\n",
    ")"
   ]
  },
  {
   "cell_type": "code",
   "execution_count": null,
   "metadata": {},
   "outputs": [],
   "source": [
    "\n",
    "@st.cache_resource\n",
    "def load_models():\n",
    "    bnb_config = BitsAndBytesConfig(\n",
    "        load_in_4bit=True,\n",
    "        bnb_4bit_quant_type=\"nf4\",\n",
    "        bnb_4bit_compute_dtype=torch.bfloat16\n",
    "    )\n",
    "    \n",
    "    # Load the Gemma model and tokenizer\n",
    "    gemma_tokenizer = AutoTokenizer.from_pretrained(\"google/gemma-3-4b-it\",token=HF_TOKEN) \n",
    "    gemma_model = AutoModelForCausalLM.from_pretrained(\n",
    "        \"google/gemma-3-4b-it\", \n",
    "        quantization_config=bnb_config,\n",
    "        device_map=\"auto\",\n",
    "        token=HF_TOKEN\n",
    "    )\n",
    "    # Load the SQL model and tokenizer\n",
    "    sql_tokenizer = AutoTokenizer.from_pretrained(\"PipableAI/pip-sql-1.3b\")\n",
    "    sql_model = AutoModelForCausalLM.from_pretrained(\n",
    "        \"PipableAI/pip-sql-1.3b\",\n",
    "        quantization_config=bnb_config,\n",
    "        device_map=\"auto\",\n",
    "        token=HF_TOKEN\n",
    "    )\n",
    "    embedding_model = TextEmbedding(model_name=\"sentence-transformers/paraphrase-multilingual-mpnet-base-v2\")\n",
    "    return gemma_tokenizer, gemma_model, sql_tokenizer, sql_model, embedding_model\n",
    "\n",
    "gemma_tokenizer, gemma_model, sql_tokenizer, sql_model, embed_model = load_models()"
   ]
  },
  {
   "cell_type": "code",
   "execution_count": null,
   "metadata": {},
   "outputs": [],
   "source": [
    "import sqlite3\n",
    "from qdrant_client import QdrantClient, models\n",
    "\n",
    "DB_PATH = \"/content/drive/MyDrive/YourApp/mydatabase.db\" # Make sure this dir exists\n",
    "QDRANT_COLLECTION_PREFIX = \"table_\"\n",
    "\n",
    "@st.cache_resource\n",
    "def init_qdrant():\n",
    "    client = QdrantClient(\":memory:\")\n",
    "    return client\n",
    "\n",
    "@st.cache_resource # Or manage connection state differently if schema changes often\n",
    "def connect_db(path):\n",
    "     conn = sqlite3.connect(path, check_same_thread=False) # check_same_thread=False needed for Streamlit\n",
    "     return conn\n",
    "\n",
    "qdrant_client = init_qdrant()\n",
    "db_conn = connect_db(DB_PATH)"
   ]
  }
 ],
 "metadata": {
  "kernelspec": {
   "display_name": "venv",
   "language": "python",
   "name": "python3"
  },
  "language_info": {
   "codemirror_mode": {
    "name": "ipython",
    "version": 3
   },
   "file_extension": ".py",
   "mimetype": "text/x-python",
   "name": "python",
   "nbconvert_exporter": "python",
   "pygments_lexer": "ipython3",
   "version": "3.12.3"
  }
 },
 "nbformat": 4,
 "nbformat_minor": 2
}
